{
 "cells": [
  {
   "cell_type": "markdown",
   "metadata": {},
   "source": [
    "# Imports"
   ]
  },
  {
   "cell_type": "code",
   "execution_count": 1,
   "metadata": {},
   "outputs": [],
   "source": [
    "import numpy as np\n",
    "import pandas as pd\n",
    "import scipy.integrate\n",
    "import sys\n",
    "import json\n",
    "import csv\n",
    "import math\n",
    "from flask import Flask, request as req, Response as res, render_template, redirect, url_for\n",
    "app = Flask(__name__, static_url_path='')"
   ]
  },
  {
   "cell_type": "markdown",
   "metadata": {},
   "source": [
    "# Get ChiSquare and Kolmogorov tables"
   ]
  },
  {
   "cell_type": "code",
   "execution_count": 2,
   "metadata": {},
   "outputs": [],
   "source": [
    "ChiSquare = []\n",
    "with open('./resources/ChiSquare.csv', 'r' ) as csvFile:\n",
    "    reader = csv.reader(csvFile)\n",
    "    for row in reader:\n",
    "        ChiSquare.append(row)\n",
    "csvFile.close()"
   ]
  },
  {
   "cell_type": "code",
   "execution_count": 3,
   "metadata": {},
   "outputs": [],
   "source": [
    "Kolmogorov = []\n",
    "with open('./resources/Kolmogorov.csv', 'r' ) as csvFile:\n",
    "    reader = csv.reader(csvFile)\n",
    "    for row in reader:\n",
    "        Kolmogorov.append(row)\n",
    "csvFile.close()"
   ]
  },
  {
   "cell_type": "markdown",
   "metadata": {},
   "source": [
    "# Routes"
   ]
  },
  {
   "cell_type": "markdown",
   "metadata": {},
   "source": [
    "## Root (with html templates)"
   ]
  },
  {
   "cell_type": "code",
   "execution_count": 4,
   "metadata": {},
   "outputs": [],
   "source": [
    "@app.route('/')\n",
    "def root():\n",
    "    return render_template('index.html')\n",
    "\n",
    "@app.route('/generated')\n",
    "def generated():\n",
    "    return redirect(url_for('root'))\n",
    "\n",
    "@app.route('/goodness')\n",
    "def goodness():\n",
    "    return redirect(url_for('root'))"
   ]
  },
  {
   "cell_type": "markdown",
   "metadata": {},
   "source": [
    "## Random generated numbers"
   ]
  },
  {
   "cell_type": "code",
   "execution_count": 5,
   "metadata": {},
   "outputs": [],
   "source": [
    "@app.route('/generated/midSquares')\n",
    "def getMidSquares():\n",
    "    x0 = int(req.args.get('seed'))\n",
    "    reps = int(req.args.get('reps'))\n",
    "    return res(json.dumps(midSquares(x0, reps)), mimetype='application/json')"
   ]
  },
  {
   "cell_type": "code",
   "execution_count": 6,
   "metadata": {},
   "outputs": [],
   "source": [
    "@app.route('/generated/linearCongruential')\n",
    "def getLinearCongruential():\n",
    "    x0 = int(req.args.get('seed'))\n",
    "    a = int(req.args.get('mult'))\n",
    "    c = int(req.args.get('inc'))\n",
    "    m = int(req.args.get('mod'))\n",
    "    reps = int(req.args.get('reps'))\n",
    "    return res(json.dumps(linearCongruential1(x0, a, c, m, reps)), mimetype='application/json') "
   ]
  },
  {
   "cell_type": "code",
   "execution_count": 7,
   "metadata": {},
   "outputs": [],
   "source": [
    "@app.route('/generated/mixedCongruential')\n",
    "def getMixedCongruential():\n",
    "    x0 = int(req.args.get('seed'))\n",
    "    a = int(req.args.get('mult'))\n",
    "    c = int(req.args.get('inc'))\n",
    "    m = int(req.args.get('mod'))\n",
    "    reps = int(req.args.get('reps'))\n",
    "    return res(json.dumps(mixedCongruential(x0, a, c, m, reps)), mimetype='application/json')"
   ]
  },
  {
   "cell_type": "code",
   "execution_count": 8,
   "metadata": {},
   "outputs": [],
   "source": [
    "@app.route('/generated/multCongruential')\n",
    "def getMultCongruential():\n",
    "    x0 = int(req.args.get('seed'))\n",
    "    a = int(req.args.get('mult'))\n",
    "    m = int(req.args.get('mod'))\n",
    "    reps = int(req.args.get('reps'))\n",
    "    return res(json.dumps(multCongruential(x0, a, m, reps)), mimetype='application/json')"
   ]
  },
  {
   "cell_type": "code",
   "execution_count": 9,
   "metadata": {},
   "outputs": [],
   "source": [
    "@app.route('/generated/combCongruential')\n",
    "def getCombCongruential():\n",
    "    k = int(req.args.get('gens'))\n",
    "    x0 = np.array(req.args.getlist('seed'), dtype=int)\n",
    "    a = np.array(req.args.getlist('mult'), dtype=int)\n",
    "    m = np.array(req.args.getlist('mod'), dtype=int)\n",
    "    print(m)\n",
    "    reps = int(req.args.get('reps'))\n",
    "    return res(json.dumps(combCongruential(x0, a, m, k, reps)), mimetype='application/json')"
   ]
  },
  {
   "cell_type": "markdown",
   "metadata": {},
   "source": [
    "## Random generated numbers with goodness tests"
   ]
  },
  {
   "cell_type": "code",
   "execution_count": 10,
   "metadata": {},
   "outputs": [],
   "source": [
    "@app.route('/goodness/midSquares')\n",
    "def goodnessMidSquares():\n",
    "    x0 = int(req.args.get('seed'))\n",
    "    reps = int(req.args.get('reps'))    \n",
    "    acceptance = float(req.args.get('acceptance'))\n",
    "    \n",
    "    gen = midSquares(x0, reps)\n",
    "    chi = chiSquareGoodnessTest(gen[\"Randoms\"], acceptance)\n",
    "    kolmogorov = kolmogorovGoodnessTest (gen[\"Randoms\"], acceptance)\n",
    "    \n",
    "    df = {\n",
    "        \"Randoms\": gen,\n",
    "        \"Goodness\" :{\n",
    "            \"ChiSquare\" : chi,\n",
    "            \"Kolmogorov\" : kolmogorov\n",
    "        }\n",
    "    }\n",
    "    return res(json.dumps(df), mimetype='application/json')"
   ]
  },
  {
   "cell_type": "code",
   "execution_count": 11,
   "metadata": {},
   "outputs": [],
   "source": [
    "@app.route('/goodness/linearCongruential')\n",
    "def goodnessLinearCongruential():\n",
    "    x0 = int(req.args.get('seed'))\n",
    "    a = int(req.args.get('mult'))\n",
    "    c = int(req.args.get('inc'))\n",
    "    m = int(req.args.get('mod'))\n",
    "    reps = int(req.args.get('reps'))    \n",
    "    acceptance = float(req.args.get('acceptance'))\n",
    "    \n",
    "    gen = linearCongruential1(x0, a, c, m, reps)\n",
    "    chi = chiSquareGoodnessTest(gen[\"Randoms\"], acceptance)\n",
    "    kolmogorov = kolmogorovGoodnessTest (gen[\"Randoms\"], acceptance)\n",
    "    \n",
    "    df = {\n",
    "        \"Randoms\": gen,\n",
    "        \"Goodness\" :{\n",
    "            \"ChiSquare\" : chi,\n",
    "            \"Kolmogorov\" : kolmogorov\n",
    "        }\n",
    "    }\n",
    "    return res(json.dumps(df), mimetype='application/json')"
   ]
  },
  {
   "cell_type": "code",
   "execution_count": 12,
   "metadata": {},
   "outputs": [],
   "source": [
    "@app.route('/goodness/mixedCongruential')\n",
    "def goodnessMixedCongruential():\n",
    "    x0 = int(req.args.get('seed'))\n",
    "    a = int(req.args.get('mult'))\n",
    "    c = int(req.args.get('inc'))\n",
    "    m = int(req.args.get('mod'))\n",
    "    reps = int(req.args.get('reps'))    \n",
    "    acceptance = float(req.args.get('acceptance'))\n",
    "    \n",
    "    gen = mixedCongruential(x0, a, c, m, reps)\n",
    "    if \"Error\" in gen:\n",
    "        return res(json.dumps(gen), mimetype='application/json')\n",
    "    \n",
    "    chi = chiSquareGoodnessTest(gen[\"Randoms\"], acceptance)\n",
    "    kolmogorov = kolmogorovGoodnessTest (gen[\"Randoms\"], acceptance)\n",
    "    \n",
    "    df = {\n",
    "        \"Randoms\": gen,\n",
    "        \"Goodness\" :{\n",
    "            \"ChiSquare\" : chi,\n",
    "            \"Kolmogorov\" : kolmogorov\n",
    "        }\n",
    "    }\n",
    "    return res(json.dumps(df), mimetype='application/json')"
   ]
  },
  {
   "cell_type": "code",
   "execution_count": 13,
   "metadata": {},
   "outputs": [],
   "source": [
    "@app.route('/goodness/multCongruential')\n",
    "def goodnessMultCongruential():\n",
    "    x0 = int(req.args.get('seed'))\n",
    "    a = int(req.args.get('mult'))\n",
    "    m = int(req.args.get('mod'))\n",
    "    reps = int(req.args.get('reps'))    \n",
    "    acceptance = float(req.args.get('acceptance'))\n",
    "    \n",
    "    gen = multCongruential(x0, a, m, reps)\n",
    "    chi = chiSquareGoodnessTest(gen[\"Randoms\"], acceptance)\n",
    "    kolmogorov = kolmogorovGoodnessTest (gen[\"Randoms\"], acceptance)\n",
    "    \n",
    "    df = {\n",
    "        \"Randoms\": gen,\n",
    "        \"Goodness\" :{\n",
    "            \"ChiSquare\" : chi,\n",
    "            \"Kolmogorov\" : kolmogorov\n",
    "        }\n",
    "    }\n",
    "    return res(json.dumps(df), mimetype='application/json')"
   ]
  },
  {
   "cell_type": "code",
   "execution_count": 14,
   "metadata": {},
   "outputs": [],
   "source": [
    "@app.route('/goodness/combCongruential')\n",
    "def goodnessCombCongruential():\n",
    "    k = int(req.args.get('gens'))\n",
    "    x0 = np.array(req.args.getlist('seed'), dtype=int)\n",
    "    a = np.array(req.args.getlist('mult'), dtype=int)\n",
    "    m = np.array(req.args.getlist('mod'), dtype=int)\n",
    "    reps = int(req.args.get('reps'))\n",
    "    acceptance = float(req.args.get('acceptance'))\n",
    "    \n",
    "    gen = combCongruential(x0, a, m, k, reps)\n",
    "    chi = chiSquareGoodnessTest(gen[\"Randoms\"], acceptance)\n",
    "    kolmogorov = kolmogorovGoodnessTest (gen[\"Randoms\"], acceptance)\n",
    "    \n",
    "    df = {\n",
    "        \"Randoms\": gen,\n",
    "        \"Goodness\" :{\n",
    "            \"ChiSquare\" : chi,\n",
    "            \"Kolmogorov\" : kolmogorov\n",
    "        }\n",
    "    }\n",
    "    return res(json.dumps(df), mimetype='application/json')"
   ]
  },
  {
   "cell_type": "markdown",
   "metadata": {},
   "source": [
    "# Generating random numbers functions"
   ]
  },
  {
   "cell_type": "code",
   "execution_count": 15,
   "metadata": {},
   "outputs": [],
   "source": [
    "def midSquares(x0, reps):\n",
    "    seed = np.array([], dtype=int)\n",
    "    generator = []\n",
    "    randoms = np.array([], dtype=int)\n",
    "    rands = np.array([], dtype=int)\n",
    "    periodFound = False\n",
    "\n",
    "    for i in range(0,reps):\n",
    "        seed = np.append(seed, x0)\n",
    "        sqr = format(int(np.power(x0, 2)), '08')\n",
    "\n",
    "        generator.append(sqr[:2] + \"|\" + sqr[2:6] + \"|\" + sqr[6:])\n",
    "        generated = int(sqr[2:6])\n",
    "\n",
    "        randoms = np.append(randoms, generated)\n",
    "        x0 = generated\n",
    "        rands = np.append(rands, x0 / 10000)\n",
    "        for j in np.isin(seed, x0):\n",
    "            if j:\n",
    "                periodFound = True\n",
    "                break\n",
    "        if periodFound:\n",
    "            break\n",
    "\n",
    "    df = {'Seed': seed.tolist(),\n",
    "         'Generator': generator,\n",
    "         'Generated': randoms.tolist(),\n",
    "         'Randoms': rands.tolist()}\n",
    "    return df"
   ]
  },
  {
   "cell_type": "code",
   "execution_count": 16,
   "metadata": {},
   "outputs": [],
   "source": [
    "def linearCongruential1(x0, a, c, m, reps, contin=False):\n",
    "    seed = np.array([], dtype=float)\n",
    "    randoms = np.array([], dtype=float)\n",
    "    rands = np.array([], dtype=float)\n",
    "    periodFound = False\n",
    "\n",
    "    for i in range(0, reps):\n",
    "        seed = np.append(seed, x0)\n",
    "        rep = np.mod((a * x0 + c), m)\n",
    "        randoms = np.append(randoms, rep)\n",
    "        x0 = rep\n",
    "        rands = np.append(rands, rep / m)\n",
    "        if not contin:\n",
    "            for j in np.isin(seed, x0):\n",
    "                if j:\n",
    "                    periodFound = True\n",
    "                    break\n",
    "        if periodFound:\n",
    "            break\n",
    "\n",
    "    df = {'Seed': seed.tolist(),\n",
    "         'Generated': randoms.tolist(),\n",
    "         'Randoms': rands.tolist()}\n",
    "    return df"
   ]
  },
  {
   "cell_type": "code",
   "execution_count": 17,
   "metadata": {},
   "outputs": [],
   "source": [
    "def mixedCongruential(x0, a, c, m, reps):    \n",
    "    if hulldobell(a, c, m):\n",
    "        return linearCongruential1(x0, a, c, m, reps)\n",
    "    else:        \n",
    "        df = {'Error': \"Does not meets Hull Dobell\",\n",
    "              'Suggested': suggest(x0, a, c, m)}\n",
    "    return df\n",
    "    \n",
    "def hulldobell(a, c, m):\n",
    "    if isRelativePrime(c, m):\n",
    "        facs = prime_factors(m)\n",
    "        for i in (np.mod((a-1), facs) == 0):\n",
    "            if not(i):\n",
    "                return False\n",
    "        if np.mod(m, 4) == 0:\n",
    "            if np.mod(a-1,4) == 0:\n",
    "                return True\n",
    "    return False\n",
    "\n",
    "def suggest(x0, a, c, m):\n",
    "    a1=a\n",
    "    c1=c\n",
    "    m1=m\n",
    "    if(np.mod(m1,4)!=0):\n",
    "        m1 -= np.mod(m1,4)\n",
    "    while not isRelativePrime(c1, m1):\n",
    "        c1+=1\n",
    "    step2 = False\n",
    "    primeFactors = prime_factors(m1)\n",
    "    while not step2:\n",
    "        check = (np.mod((a1-1), primeFactors) == 0)\n",
    "        if( (not False in check) and np.mod(a1-1,4) == 0 ):\n",
    "            step2 = True                    \n",
    "        else:\n",
    "            a1+=1                       \n",
    "    return {'seed': int(x0),\n",
    "            'mult' : int(a1),\n",
    "            'inc' : int(c1),\n",
    "            'mod': int(m1)}\n",
    "    \n",
    "def isRelativePrime(a, b):\n",
    "    return np.gcd(int(a), int(b)) == 1\n",
    "\n",
    "def isPrime(a):\n",
    "    if num < 1:\n",
    "        return False\n",
    "    elif num == 2:\n",
    "        return True\n",
    "    else:\n",
    "        for i in range(2, num):\n",
    "            if np.mod(num, i) == 0:\n",
    "                return False\n",
    "        return True \n",
    "    \n",
    "def prime_factors(n):\n",
    "    i = 2\n",
    "    factors = []\n",
    "    while i * i <= n:\n",
    "        if np.mod(n, i):\n",
    "            i += 1\n",
    "        else:\n",
    "            n //= i\n",
    "            factors.append(i)\n",
    "    if n > 1:\n",
    "        factors.append(n)\n",
    "    return np.array(factors)"
   ]
  },
  {
   "cell_type": "code",
   "execution_count": 18,
   "metadata": {},
   "outputs": [],
   "source": [
    "def multCongruential(x0, a, m, reps, contin=False):    \n",
    "    if m > a and m > x0:\n",
    "        return linearCongruential1(x0, a, 0, m, reps, contin=contin)"
   ]
  },
  {
   "cell_type": "code",
   "execution_count": 19,
   "metadata": {},
   "outputs": [],
   "source": [
    "def combCongruential(x0, a, m, k, reps):\n",
    "    lc = []\n",
    "    gen = []\n",
    "    rands = []\n",
    "    mk = m[0]\n",
    "    for i in range(0, k):\n",
    "        lc.append(multCongruential(x0[i], a[i], m[i], reps, True)[\"Randoms\"])\n",
    "    for i in range(0, reps):\n",
    "        res = 0\n",
    "        for j in range(0, k):\n",
    "            res += np.mod((np.power(-1, j) * lc[j][i]), mk -1)\n",
    "        gen.append(res)\n",
    "        if res > 0 :\n",
    "            rands.append(res / mk)\n",
    "        elif res == 0:\n",
    "            rands.append((mk-1)/mk)\n",
    "            \n",
    "    df = {'Seed': [],\n",
    "          'Generated': gen,\n",
    "          'Randoms': rands}\n",
    "    \n",
    "    cont = 1\n",
    "    for rands in lc:\n",
    "        df[\"Seed\"].append(rands)\n",
    "        cont+=1\n",
    "\n",
    "    return df"
   ]
  },
  {
   "cell_type": "markdown",
   "metadata": {},
   "source": [
    "# Goodness Test functions"
   ]
  },
  {
   "cell_type": "markdown",
   "metadata": {},
   "source": [
    "## Chi Square"
   ]
  },
  {
   "cell_type": "code",
   "execution_count": 20,
   "metadata": {},
   "outputs": [],
   "source": [
    "def chiSquareGoodnessTest(dataset, acceptance):\n",
    "    function = lambda x : 1 / 1-0 if 0<=x and x<=1 else 0\n",
    "    var = 1 #?\n",
    "    minimum = np.amin(dataset)\n",
    "    maximum = np.amax(dataset)\n",
    "    n = len(dataset)\n",
    "    rang = maximum - minimum\n",
    "    k = 1+3.322*np.log10(n)\n",
    "    size = rang / k    \n",
    "    classmin = np.array([0], dtype=float)\n",
    "    classmax = np.array([0], dtype=float)\n",
    "    foabsolute = np.array([0] ,dtype=float)\n",
    "    oirelative = np.array([0], dtype=float)\n",
    "    eitheory = np.array([0], dtype=float)\n",
    "    chi2 = np.array([0], dtype=float)    \n",
    "    i = minimum    \n",
    "    while i < maximum:\n",
    "        classmin = np.append(classmin, i)\n",
    "        classmax = np.append(classmax, i+size)\n",
    "        freq = sum(1 for x in dataset if x >= i and x < (i+size))\n",
    "        foabsolute = np.append(foabsolute, freq)\n",
    "        oirelative = np.append(oirelative, freq / n)\n",
    "        ei = scipy.integrate.quad(function, i, i+size)[0]\n",
    "        eitheory = np.append(eitheory, ei)\n",
    "        chi2 = np.append(chi2, np.power((freq / n - ei), 2) / ei)        \n",
    "        i += size  \n",
    "        \n",
    "    sumChi2 = np.sum(chi2)\n",
    "    chiTheory = getChiValue(var, acceptance)\n",
    "    df = {\n",
    "        \"Chi ^2 calculated\" : sumChi2,\n",
    "        \"Chi ^2 Theoretical\" : chiTheory,\n",
    "        \"Accepted\" : \"True\" if sumChi2<=chiTheory else \"False\"\n",
    "    }\n",
    "    return df"
   ]
  },
  {
   "cell_type": "code",
   "execution_count": 21,
   "metadata": {},
   "outputs": [],
   "source": [
    "def getChiValue(N, Significance):\n",
    "    i = 0\n",
    "    j = 0\n",
    "    P = None\n",
    "    while(len(ChiSquare)>j):\n",
    "        if(str(N) == ChiSquare[j][0]):\n",
    "            P = j\n",
    "        j+=1\n",
    "    while(len(ChiSquare[0])>i):\n",
    "        if(str(Significance) == ChiSquare[0][i]):\n",
    "            return float(ChiSquare[P][i])\n",
    "        i+=1"
   ]
  },
  {
   "cell_type": "markdown",
   "metadata": {},
   "source": [
    "## Kolmogorov "
   ]
  },
  {
   "cell_type": "code",
   "execution_count": 22,
   "metadata": {},
   "outputs": [],
   "source": [
    "def kolmogorovGoodnessTest(dataset, acceptance):\n",
    "    dataset = np.array(dataset)\n",
    "    dataset.sort(axis=0)\n",
    "    N = len(dataset)\n",
    "    cumulativeFunction = lambda x : x / N\n",
    "    cont = 1\n",
    "    r = np.append([0], dataset)\n",
    "    s = np.array([0], dtype=float)\n",
    "    dp = np.array([0], dtype=float)\n",
    "    dm = np.array([0], dtype=float)\n",
    "    for i in dataset:\n",
    "        s = np.append(s, cumulativeFunction(cont))\n",
    "        dp = np.append(dp, np.abs(s[cont]-i))\n",
    "        if cont == 1:\n",
    "            dm = np.append(dm, np.abs(i))\n",
    "        else:\n",
    "            dm = np.append(dm, np.abs(i-(s[cont-1])))\n",
    "        cont+=1;\n",
    "        \n",
    "    maxD = np.amax(np.append(np.amax(dp), np.amax(dm)))\n",
    "    theoryD = getKolmogorovValue(N, acceptance)\n",
    "    \n",
    "    df = {\n",
    "        \"Maximum Distance\": maxD,\n",
    "        \"Theory Distance\" : theoryD,\n",
    "        \"Accepted\" : \"True\" if maxD <= theoryD else \"False\"\n",
    "    }\n",
    "    return df"
   ]
  },
  {
   "cell_type": "code",
   "execution_count": 23,
   "metadata": {},
   "outputs": [],
   "source": [
    "def getKolmogorovValue(N, significance):\n",
    "    i = 0\n",
    "    j = 0\n",
    "    P = None\n",
    "    if(int(N)>50):\n",
    "        if(significance == .001):\n",
    "            return ((1.94947)/np.sqrt(N))\n",
    "        elif(significance == .01):\n",
    "            return (1.62762/np.sqrt(N))\n",
    "        elif(significance == .02):\n",
    "            return (1.51743/np.sqrt(N))\n",
    "        elif(significance == .05):\n",
    "            return (1.35810/np.sqrt(N))\n",
    "        elif(significance == .1):\n",
    "            return (1.22385/np.sqrt(N))\n",
    "        elif(significance == .15):\n",
    "            return (1.13795/np.sqrt(N))\n",
    "        elif(significance == .2):\n",
    "            return (1.07275/np.sqrt(N))\n",
    "    else:\n",
    "        while(len(Kolmogorov)>j):\n",
    "            if(str(N) == Kolmogorov[j][0]):\n",
    "                P = j\n",
    "            j+=1\n",
    "        while(len(Kolmogorov[0])>i):\n",
    "            if(str(significance) == Kolmogorov[0][i]):\n",
    "                return float(Kolmogorov[P][i])\n",
    "            i+=1"
   ]
  },
  {
   "cell_type": "markdown",
   "metadata": {},
   "source": [
    "# Debug server run (just develop, not production)"
   ]
  },
  {
   "cell_type": "code",
   "execution_count": 24,
   "metadata": {},
   "outputs": [],
   "source": [
    "if len(sys.argv) == 2:\n",
    "    if sys.argv[1] == 'debug':\n",
    "        app.run(host='127.0.0.1', port=8080, debug=True)"
   ]
  },
  {
   "cell_type": "code",
   "execution_count": null,
   "metadata": {},
   "outputs": [],
   "source": []
  },
  {
   "cell_type": "code",
   "execution_count": null,
   "metadata": {},
   "outputs": [],
   "source": []
  }
 ],
 "metadata": {
  "kernelspec": {
   "display_name": "Python 3",
   "language": "python",
   "name": "python3"
  },
  "language_info": {
   "codemirror_mode": {
    "name": "ipython",
    "version": 3
   },
   "file_extension": ".py",
   "mimetype": "text/x-python",
   "name": "python",
   "nbconvert_exporter": "python",
   "pygments_lexer": "ipython3",
   "version": "3.6.7"
  }
 },
 "nbformat": 4,
 "nbformat_minor": 2
}
